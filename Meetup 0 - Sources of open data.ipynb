{
 "cells": [
  {
   "cell_type": "markdown",
   "metadata": {},
   "source": [
    "# Sources of public data:"
   ]
  },
  {
   "cell_type": "markdown",
   "metadata": {},
   "source": [
    "First step: import the necessary libraries. "
   ]
  },
  {
   "cell_type": "markdown",
   "metadata": {},
   "source": [
    "Pandas: open source, BSD-licensed library providing high-performance, easy-to-use data structures and data analysis\n",
    "\n",
    "[How to install Pandas](http://pandas.pydata.org/pandas-docs/stable/install.html)"
   ]
  },
  {
   "cell_type": "code",
   "execution_count": 4,
   "metadata": {
    "collapsed": false
   },
   "outputs": [],
   "source": [
    "import pandas as pd"
   ]
  },
  {
   "cell_type": "markdown",
   "metadata": {},
   "source": [
    "Quandl: search engine for numerical data.\n",
    "\n",
    "[How to install Quandl](https://www.quandl.com/help/python)"
   ]
  },
  {
   "cell_type": "code",
   "execution_count": 20,
   "metadata": {
    "collapsed": false
   },
   "outputs": [],
   "source": [
    "import quandl"
   ]
  },
  {
   "cell_type": "markdown",
   "metadata": {},
   "source": [
    "If you have not done so already, go to Quandl and register to get a free API key:  "
   ]
  },
  {
   "cell_type": "code",
   "execution_count": 21,
   "metadata": {
    "collapsed": true
   },
   "outputs": [],
   "source": [
    "API_key = 'wxczzKdRbz4aKsdek9ev'"
   ]
  },
  {
   "cell_type": "markdown",
   "metadata": {},
   "source": [
    "How to get a dataframe via the Quandl API: "
   ]
  },
  {
   "cell_type": "code",
   "execution_count": 31,
   "metadata": {
    "collapsed": false,
    "scrolled": true
   },
   "outputs": [],
   "source": [
    "reference = 'NSE/OIL'\n",
    "M = quandl.get(reference, returns = 'pandas', authtoken=API_key)"
   ]
  },
  {
   "cell_type": "code",
   "execution_count": 32,
   "metadata": {
    "collapsed": false
   },
   "outputs": [
    {
     "data": {
      "text/html": [
       "<div>\n",
       "<table border=\"1\" class=\"dataframe\">\n",
       "  <thead>\n",
       "    <tr style=\"text-align: right;\">\n",
       "      <th></th>\n",
       "      <th>Open</th>\n",
       "      <th>High</th>\n",
       "      <th>Low</th>\n",
       "      <th>Last</th>\n",
       "      <th>Close</th>\n",
       "      <th>Total Trade Quantity</th>\n",
       "      <th>Turnover (Lacs)</th>\n",
       "    </tr>\n",
       "    <tr>\n",
       "      <th>Date</th>\n",
       "      <th></th>\n",
       "      <th></th>\n",
       "      <th></th>\n",
       "      <th></th>\n",
       "      <th></th>\n",
       "      <th></th>\n",
       "      <th></th>\n",
       "    </tr>\n",
       "  </thead>\n",
       "  <tbody>\n",
       "    <tr>\n",
       "      <th>2009-09-30</th>\n",
       "      <td>1096.00</td>\n",
       "      <td>1156.70</td>\n",
       "      <td>1090.00</td>\n",
       "      <td>1135.00</td>\n",
       "      <td>1141.20</td>\n",
       "      <td>19748012.0</td>\n",
       "      <td>223877.07</td>\n",
       "    </tr>\n",
       "    <tr>\n",
       "      <th>2009-10-01</th>\n",
       "      <td>1102.00</td>\n",
       "      <td>1173.70</td>\n",
       "      <td>1102.00</td>\n",
       "      <td>1167.00</td>\n",
       "      <td>1166.35</td>\n",
       "      <td>3074254.0</td>\n",
       "      <td>35463.78</td>\n",
       "    </tr>\n",
       "    <tr>\n",
       "      <th>2009-10-05</th>\n",
       "      <td>1152.00</td>\n",
       "      <td>1165.90</td>\n",
       "      <td>1136.60</td>\n",
       "      <td>1143.00</td>\n",
       "      <td>1140.55</td>\n",
       "      <td>919832.0</td>\n",
       "      <td>10581.13</td>\n",
       "    </tr>\n",
       "    <tr>\n",
       "      <th>2009-10-06</th>\n",
       "      <td>1149.80</td>\n",
       "      <td>1157.20</td>\n",
       "      <td>1132.10</td>\n",
       "      <td>1143.30</td>\n",
       "      <td>1144.90</td>\n",
       "      <td>627957.0</td>\n",
       "      <td>7185.90</td>\n",
       "    </tr>\n",
       "    <tr>\n",
       "      <th>2009-10-07</th>\n",
       "      <td>1153.80</td>\n",
       "      <td>1160.70</td>\n",
       "      <td>1140.00</td>\n",
       "      <td>1141.45</td>\n",
       "      <td>1141.60</td>\n",
       "      <td>698216.0</td>\n",
       "      <td>8032.98</td>\n",
       "    </tr>\n",
       "    <tr>\n",
       "      <th>2009-10-08</th>\n",
       "      <td>1145.00</td>\n",
       "      <td>1179.80</td>\n",
       "      <td>1142.00</td>\n",
       "      <td>1178.10</td>\n",
       "      <td>1170.20</td>\n",
       "      <td>788173.0</td>\n",
       "      <td>9138.99</td>\n",
       "    </tr>\n",
       "    <tr>\n",
       "      <th>2009-10-09</th>\n",
       "      <td>1176.00</td>\n",
       "      <td>1210.00</td>\n",
       "      <td>1165.00</td>\n",
       "      <td>1183.00</td>\n",
       "      <td>1195.65</td>\n",
       "      <td>1047417.0</td>\n",
       "      <td>12449.44</td>\n",
       "    </tr>\n",
       "    <tr>\n",
       "      <th>2009-10-12</th>\n",
       "      <td>1184.00</td>\n",
       "      <td>1210.00</td>\n",
       "      <td>1176.00</td>\n",
       "      <td>1193.00</td>\n",
       "      <td>1195.70</td>\n",
       "      <td>464697.0</td>\n",
       "      <td>5551.35</td>\n",
       "    </tr>\n",
       "    <tr>\n",
       "      <th>2009-10-14</th>\n",
       "      <td>1198.00</td>\n",
       "      <td>1227.75</td>\n",
       "      <td>1185.00</td>\n",
       "      <td>1192.50</td>\n",
       "      <td>1190.45</td>\n",
       "      <td>581221.0</td>\n",
       "      <td>7015.84</td>\n",
       "    </tr>\n",
       "    <tr>\n",
       "      <th>2009-10-15</th>\n",
       "      <td>1198.00</td>\n",
       "      <td>1204.90</td>\n",
       "      <td>1180.05</td>\n",
       "      <td>1184.90</td>\n",
       "      <td>1184.55</td>\n",
       "      <td>301790.0</td>\n",
       "      <td>3593.52</td>\n",
       "    </tr>\n",
       "    <tr>\n",
       "      <th>2009-10-16</th>\n",
       "      <td>1188.65</td>\n",
       "      <td>1203.00</td>\n",
       "      <td>1182.00</td>\n",
       "      <td>1191.10</td>\n",
       "      <td>1191.00</td>\n",
       "      <td>313011.0</td>\n",
       "      <td>3735.12</td>\n",
       "    </tr>\n",
       "    <tr>\n",
       "      <th>2009-10-17</th>\n",
       "      <td>1240.00</td>\n",
       "      <td>1240.00</td>\n",
       "      <td>1180.00</td>\n",
       "      <td>1189.10</td>\n",
       "      <td>1189.80</td>\n",
       "      <td>35143.0</td>\n",
       "      <td>418.95</td>\n",
       "    </tr>\n",
       "    <tr>\n",
       "      <th>2009-10-20</th>\n",
       "      <td>1196.00</td>\n",
       "      <td>1203.50</td>\n",
       "      <td>1172.00</td>\n",
       "      <td>1174.00</td>\n",
       "      <td>1177.85</td>\n",
       "      <td>156941.0</td>\n",
       "      <td>1861.75</td>\n",
       "    </tr>\n",
       "    <tr>\n",
       "      <th>2009-10-21</th>\n",
       "      <td>1184.00</td>\n",
       "      <td>1194.00</td>\n",
       "      <td>1157.00</td>\n",
       "      <td>1166.00</td>\n",
       "      <td>1166.10</td>\n",
       "      <td>309098.0</td>\n",
       "      <td>3657.14</td>\n",
       "    </tr>\n",
       "    <tr>\n",
       "      <th>2009-10-22</th>\n",
       "      <td>1165.00</td>\n",
       "      <td>1184.40</td>\n",
       "      <td>1158.00</td>\n",
       "      <td>1168.00</td>\n",
       "      <td>1164.95</td>\n",
       "      <td>338413.0</td>\n",
       "      <td>3973.97</td>\n",
       "    </tr>\n",
       "    <tr>\n",
       "      <th>2009-10-23</th>\n",
       "      <td>1174.90</td>\n",
       "      <td>1179.45</td>\n",
       "      <td>1161.20</td>\n",
       "      <td>1165.00</td>\n",
       "      <td>1164.70</td>\n",
       "      <td>216929.0</td>\n",
       "      <td>2538.68</td>\n",
       "    </tr>\n",
       "    <tr>\n",
       "      <th>2009-10-26</th>\n",
       "      <td>1151.30</td>\n",
       "      <td>1175.00</td>\n",
       "      <td>1145.00</td>\n",
       "      <td>1158.00</td>\n",
       "      <td>1156.40</td>\n",
       "      <td>209553.0</td>\n",
       "      <td>2423.58</td>\n",
       "    </tr>\n",
       "    <tr>\n",
       "      <th>2009-10-27</th>\n",
       "      <td>1150.05</td>\n",
       "      <td>1150.05</td>\n",
       "      <td>1114.20</td>\n",
       "      <td>1140.00</td>\n",
       "      <td>1140.35</td>\n",
       "      <td>407594.0</td>\n",
       "      <td>4635.23</td>\n",
       "    </tr>\n",
       "    <tr>\n",
       "      <th>2009-10-28</th>\n",
       "      <td>1141.00</td>\n",
       "      <td>1141.00</td>\n",
       "      <td>1111.00</td>\n",
       "      <td>1130.20</td>\n",
       "      <td>1130.20</td>\n",
       "      <td>243141.0</td>\n",
       "      <td>2745.53</td>\n",
       "    </tr>\n",
       "    <tr>\n",
       "      <th>2009-10-29</th>\n",
       "      <td>1125.25</td>\n",
       "      <td>1137.90</td>\n",
       "      <td>1115.10</td>\n",
       "      <td>1132.00</td>\n",
       "      <td>1132.25</td>\n",
       "      <td>65246.0</td>\n",
       "      <td>736.80</td>\n",
       "    </tr>\n",
       "    <tr>\n",
       "      <th>2009-10-30</th>\n",
       "      <td>1145.00</td>\n",
       "      <td>1145.00</td>\n",
       "      <td>1110.00</td>\n",
       "      <td>1111.90</td>\n",
       "      <td>1120.60</td>\n",
       "      <td>117100.0</td>\n",
       "      <td>1325.22</td>\n",
       "    </tr>\n",
       "    <tr>\n",
       "      <th>2009-11-03</th>\n",
       "      <td>1102.00</td>\n",
       "      <td>1127.50</td>\n",
       "      <td>1102.00</td>\n",
       "      <td>1120.95</td>\n",
       "      <td>1120.00</td>\n",
       "      <td>179969.0</td>\n",
       "      <td>2013.91</td>\n",
       "    </tr>\n",
       "    <tr>\n",
       "      <th>2009-11-04</th>\n",
       "      <td>1124.90</td>\n",
       "      <td>1159.00</td>\n",
       "      <td>1120.00</td>\n",
       "      <td>1150.50</td>\n",
       "      <td>1150.85</td>\n",
       "      <td>284546.0</td>\n",
       "      <td>3248.87</td>\n",
       "    </tr>\n",
       "    <tr>\n",
       "      <th>2009-11-05</th>\n",
       "      <td>1127.00</td>\n",
       "      <td>1154.00</td>\n",
       "      <td>1127.00</td>\n",
       "      <td>1153.00</td>\n",
       "      <td>1148.90</td>\n",
       "      <td>49813.0</td>\n",
       "      <td>568.75</td>\n",
       "    </tr>\n",
       "    <tr>\n",
       "      <th>2009-11-06</th>\n",
       "      <td>1155.00</td>\n",
       "      <td>1168.55</td>\n",
       "      <td>1146.25</td>\n",
       "      <td>1160.00</td>\n",
       "      <td>1156.50</td>\n",
       "      <td>295089.0</td>\n",
       "      <td>3421.96</td>\n",
       "    </tr>\n",
       "    <tr>\n",
       "      <th>2009-11-09</th>\n",
       "      <td>1150.05</td>\n",
       "      <td>1167.00</td>\n",
       "      <td>1150.05</td>\n",
       "      <td>1160.05</td>\n",
       "      <td>1165.05</td>\n",
       "      <td>93970.0</td>\n",
       "      <td>1090.62</td>\n",
       "    </tr>\n",
       "    <tr>\n",
       "      <th>2009-11-10</th>\n",
       "      <td>1157.00</td>\n",
       "      <td>1169.90</td>\n",
       "      <td>1142.00</td>\n",
       "      <td>1149.00</td>\n",
       "      <td>1147.75</td>\n",
       "      <td>286131.0</td>\n",
       "      <td>3301.75</td>\n",
       "    </tr>\n",
       "    <tr>\n",
       "      <th>2009-11-11</th>\n",
       "      <td>1147.00</td>\n",
       "      <td>1191.00</td>\n",
       "      <td>1145.40</td>\n",
       "      <td>1173.05</td>\n",
       "      <td>1181.35</td>\n",
       "      <td>325326.0</td>\n",
       "      <td>3788.43</td>\n",
       "    </tr>\n",
       "    <tr>\n",
       "      <th>2009-11-12</th>\n",
       "      <td>1190.00</td>\n",
       "      <td>1193.00</td>\n",
       "      <td>1170.00</td>\n",
       "      <td>1185.00</td>\n",
       "      <td>1182.60</td>\n",
       "      <td>143567.0</td>\n",
       "      <td>1698.72</td>\n",
       "    </tr>\n",
       "    <tr>\n",
       "      <th>2009-11-13</th>\n",
       "      <td>1175.00</td>\n",
       "      <td>1223.70</td>\n",
       "      <td>1168.00</td>\n",
       "      <td>1189.00</td>\n",
       "      <td>1194.45</td>\n",
       "      <td>440047.0</td>\n",
       "      <td>5277.68</td>\n",
       "    </tr>\n",
       "    <tr>\n",
       "      <th>...</th>\n",
       "      <td>...</td>\n",
       "      <td>...</td>\n",
       "      <td>...</td>\n",
       "      <td>...</td>\n",
       "      <td>...</td>\n",
       "      <td>...</td>\n",
       "      <td>...</td>\n",
       "    </tr>\n",
       "    <tr>\n",
       "      <th>2016-03-11</th>\n",
       "      <td>312.00</td>\n",
       "      <td>312.90</td>\n",
       "      <td>309.80</td>\n",
       "      <td>311.00</td>\n",
       "      <td>310.90</td>\n",
       "      <td>281592.0</td>\n",
       "      <td>875.97</td>\n",
       "    </tr>\n",
       "    <tr>\n",
       "      <th>2016-03-14</th>\n",
       "      <td>311.90</td>\n",
       "      <td>314.40</td>\n",
       "      <td>309.00</td>\n",
       "      <td>309.95</td>\n",
       "      <td>309.95</td>\n",
       "      <td>195841.0</td>\n",
       "      <td>608.64</td>\n",
       "    </tr>\n",
       "    <tr>\n",
       "      <th>2016-03-15</th>\n",
       "      <td>309.35</td>\n",
       "      <td>310.85</td>\n",
       "      <td>307.00</td>\n",
       "      <td>308.15</td>\n",
       "      <td>308.15</td>\n",
       "      <td>231140.0</td>\n",
       "      <td>712.75</td>\n",
       "    </tr>\n",
       "    <tr>\n",
       "      <th>2016-03-16</th>\n",
       "      <td>308.45</td>\n",
       "      <td>310.00</td>\n",
       "      <td>301.05</td>\n",
       "      <td>303.30</td>\n",
       "      <td>303.35</td>\n",
       "      <td>732565.0</td>\n",
       "      <td>2230.43</td>\n",
       "    </tr>\n",
       "    <tr>\n",
       "      <th>2016-03-17</th>\n",
       "      <td>307.00</td>\n",
       "      <td>309.50</td>\n",
       "      <td>305.25</td>\n",
       "      <td>306.00</td>\n",
       "      <td>306.25</td>\n",
       "      <td>693901.0</td>\n",
       "      <td>2132.49</td>\n",
       "    </tr>\n",
       "    <tr>\n",
       "      <th>2016-03-18</th>\n",
       "      <td>307.90</td>\n",
       "      <td>314.60</td>\n",
       "      <td>307.70</td>\n",
       "      <td>312.10</td>\n",
       "      <td>313.35</td>\n",
       "      <td>571120.0</td>\n",
       "      <td>1779.58</td>\n",
       "    </tr>\n",
       "    <tr>\n",
       "      <th>2016-03-21</th>\n",
       "      <td>313.50</td>\n",
       "      <td>320.00</td>\n",
       "      <td>312.15</td>\n",
       "      <td>317.15</td>\n",
       "      <td>317.65</td>\n",
       "      <td>536998.0</td>\n",
       "      <td>1703.05</td>\n",
       "    </tr>\n",
       "    <tr>\n",
       "      <th>2016-03-22</th>\n",
       "      <td>317.05</td>\n",
       "      <td>321.90</td>\n",
       "      <td>315.50</td>\n",
       "      <td>316.85</td>\n",
       "      <td>317.40</td>\n",
       "      <td>548477.0</td>\n",
       "      <td>1744.36</td>\n",
       "    </tr>\n",
       "    <tr>\n",
       "      <th>2016-03-23</th>\n",
       "      <td>317.05</td>\n",
       "      <td>318.80</td>\n",
       "      <td>314.30</td>\n",
       "      <td>316.60</td>\n",
       "      <td>317.10</td>\n",
       "      <td>243026.0</td>\n",
       "      <td>770.94</td>\n",
       "    </tr>\n",
       "    <tr>\n",
       "      <th>2016-03-28</th>\n",
       "      <td>317.90</td>\n",
       "      <td>318.00</td>\n",
       "      <td>312.40</td>\n",
       "      <td>314.50</td>\n",
       "      <td>315.05</td>\n",
       "      <td>262427.0</td>\n",
       "      <td>826.58</td>\n",
       "    </tr>\n",
       "    <tr>\n",
       "      <th>2016-03-29</th>\n",
       "      <td>314.90</td>\n",
       "      <td>315.05</td>\n",
       "      <td>308.45</td>\n",
       "      <td>313.25</td>\n",
       "      <td>312.55</td>\n",
       "      <td>148655.0</td>\n",
       "      <td>463.63</td>\n",
       "    </tr>\n",
       "    <tr>\n",
       "      <th>2016-03-30</th>\n",
       "      <td>312.65</td>\n",
       "      <td>316.50</td>\n",
       "      <td>310.60</td>\n",
       "      <td>315.65</td>\n",
       "      <td>315.10</td>\n",
       "      <td>323100.0</td>\n",
       "      <td>1017.62</td>\n",
       "    </tr>\n",
       "    <tr>\n",
       "      <th>2016-03-31</th>\n",
       "      <td>315.10</td>\n",
       "      <td>315.10</td>\n",
       "      <td>311.00</td>\n",
       "      <td>313.10</td>\n",
       "      <td>313.00</td>\n",
       "      <td>302850.0</td>\n",
       "      <td>947.76</td>\n",
       "    </tr>\n",
       "    <tr>\n",
       "      <th>2016-04-01</th>\n",
       "      <td>314.40</td>\n",
       "      <td>317.30</td>\n",
       "      <td>312.55</td>\n",
       "      <td>316.70</td>\n",
       "      <td>316.30</td>\n",
       "      <td>140332.0</td>\n",
       "      <td>441.93</td>\n",
       "    </tr>\n",
       "    <tr>\n",
       "      <th>2016-04-04</th>\n",
       "      <td>320.95</td>\n",
       "      <td>320.95</td>\n",
       "      <td>314.00</td>\n",
       "      <td>314.60</td>\n",
       "      <td>314.75</td>\n",
       "      <td>279546.0</td>\n",
       "      <td>880.48</td>\n",
       "    </tr>\n",
       "    <tr>\n",
       "      <th>2016-04-05</th>\n",
       "      <td>312.50</td>\n",
       "      <td>315.90</td>\n",
       "      <td>312.00</td>\n",
       "      <td>312.55</td>\n",
       "      <td>313.70</td>\n",
       "      <td>813937.0</td>\n",
       "      <td>2562.92</td>\n",
       "    </tr>\n",
       "    <tr>\n",
       "      <th>2016-04-06</th>\n",
       "      <td>313.50</td>\n",
       "      <td>323.55</td>\n",
       "      <td>311.00</td>\n",
       "      <td>323.00</td>\n",
       "      <td>318.70</td>\n",
       "      <td>591854.0</td>\n",
       "      <td>1877.86</td>\n",
       "    </tr>\n",
       "    <tr>\n",
       "      <th>2016-04-07</th>\n",
       "      <td>321.00</td>\n",
       "      <td>323.50</td>\n",
       "      <td>316.10</td>\n",
       "      <td>318.00</td>\n",
       "      <td>318.05</td>\n",
       "      <td>237769.0</td>\n",
       "      <td>759.12</td>\n",
       "    </tr>\n",
       "    <tr>\n",
       "      <th>2016-04-08</th>\n",
       "      <td>317.00</td>\n",
       "      <td>318.90</td>\n",
       "      <td>316.20</td>\n",
       "      <td>316.55</td>\n",
       "      <td>317.15</td>\n",
       "      <td>45098.0</td>\n",
       "      <td>143.18</td>\n",
       "    </tr>\n",
       "    <tr>\n",
       "      <th>2016-04-11</th>\n",
       "      <td>319.00</td>\n",
       "      <td>321.10</td>\n",
       "      <td>316.00</td>\n",
       "      <td>317.40</td>\n",
       "      <td>317.50</td>\n",
       "      <td>137632.0</td>\n",
       "      <td>437.29</td>\n",
       "    </tr>\n",
       "    <tr>\n",
       "      <th>2016-04-12</th>\n",
       "      <td>318.75</td>\n",
       "      <td>320.45</td>\n",
       "      <td>316.10</td>\n",
       "      <td>316.40</td>\n",
       "      <td>318.05</td>\n",
       "      <td>386388.0</td>\n",
       "      <td>1228.72</td>\n",
       "    </tr>\n",
       "    <tr>\n",
       "      <th>2016-04-13</th>\n",
       "      <td>321.00</td>\n",
       "      <td>322.85</td>\n",
       "      <td>318.90</td>\n",
       "      <td>319.60</td>\n",
       "      <td>319.65</td>\n",
       "      <td>1076761.0</td>\n",
       "      <td>3445.92</td>\n",
       "    </tr>\n",
       "    <tr>\n",
       "      <th>2016-04-18</th>\n",
       "      <td>317.70</td>\n",
       "      <td>317.70</td>\n",
       "      <td>312.20</td>\n",
       "      <td>313.50</td>\n",
       "      <td>313.45</td>\n",
       "      <td>409822.0</td>\n",
       "      <td>1286.13</td>\n",
       "    </tr>\n",
       "    <tr>\n",
       "      <th>2016-04-20</th>\n",
       "      <td>315.00</td>\n",
       "      <td>315.80</td>\n",
       "      <td>313.00</td>\n",
       "      <td>313.65</td>\n",
       "      <td>313.90</td>\n",
       "      <td>291096.0</td>\n",
       "      <td>914.73</td>\n",
       "    </tr>\n",
       "    <tr>\n",
       "      <th>2016-04-21</th>\n",
       "      <td>317.95</td>\n",
       "      <td>319.00</td>\n",
       "      <td>315.55</td>\n",
       "      <td>317.20</td>\n",
       "      <td>317.05</td>\n",
       "      <td>268211.0</td>\n",
       "      <td>851.86</td>\n",
       "    </tr>\n",
       "    <tr>\n",
       "      <th>2016-04-22</th>\n",
       "      <td>317.70</td>\n",
       "      <td>318.65</td>\n",
       "      <td>316.00</td>\n",
       "      <td>316.75</td>\n",
       "      <td>317.00</td>\n",
       "      <td>437963.0</td>\n",
       "      <td>1388.79</td>\n",
       "    </tr>\n",
       "    <tr>\n",
       "      <th>2016-04-25</th>\n",
       "      <td>319.10</td>\n",
       "      <td>319.20</td>\n",
       "      <td>314.00</td>\n",
       "      <td>316.20</td>\n",
       "      <td>316.00</td>\n",
       "      <td>411215.0</td>\n",
       "      <td>1302.00</td>\n",
       "    </tr>\n",
       "    <tr>\n",
       "      <th>2016-04-26</th>\n",
       "      <td>316.00</td>\n",
       "      <td>320.00</td>\n",
       "      <td>315.05</td>\n",
       "      <td>319.05</td>\n",
       "      <td>318.90</td>\n",
       "      <td>170762.0</td>\n",
       "      <td>542.84</td>\n",
       "    </tr>\n",
       "    <tr>\n",
       "      <th>2016-04-27</th>\n",
       "      <td>318.90</td>\n",
       "      <td>332.25</td>\n",
       "      <td>318.10</td>\n",
       "      <td>327.75</td>\n",
       "      <td>327.90</td>\n",
       "      <td>863183.0</td>\n",
       "      <td>2830.97</td>\n",
       "    </tr>\n",
       "    <tr>\n",
       "      <th>2016-04-28</th>\n",
       "      <td>328.55</td>\n",
       "      <td>333.45</td>\n",
       "      <td>328.55</td>\n",
       "      <td>330.00</td>\n",
       "      <td>330.80</td>\n",
       "      <td>720980.0</td>\n",
       "      <td>2387.07</td>\n",
       "    </tr>\n",
       "  </tbody>\n",
       "</table>\n",
       "<p>1632 rows × 7 columns</p>\n",
       "</div>"
      ],
      "text/plain": [
       "               Open     High      Low     Last    Close  Total Trade Quantity  \\\n",
       "Date                                                                            \n",
       "2009-09-30  1096.00  1156.70  1090.00  1135.00  1141.20            19748012.0   \n",
       "2009-10-01  1102.00  1173.70  1102.00  1167.00  1166.35             3074254.0   \n",
       "2009-10-05  1152.00  1165.90  1136.60  1143.00  1140.55              919832.0   \n",
       "2009-10-06  1149.80  1157.20  1132.10  1143.30  1144.90              627957.0   \n",
       "2009-10-07  1153.80  1160.70  1140.00  1141.45  1141.60              698216.0   \n",
       "2009-10-08  1145.00  1179.80  1142.00  1178.10  1170.20              788173.0   \n",
       "2009-10-09  1176.00  1210.00  1165.00  1183.00  1195.65             1047417.0   \n",
       "2009-10-12  1184.00  1210.00  1176.00  1193.00  1195.70              464697.0   \n",
       "2009-10-14  1198.00  1227.75  1185.00  1192.50  1190.45              581221.0   \n",
       "2009-10-15  1198.00  1204.90  1180.05  1184.90  1184.55              301790.0   \n",
       "2009-10-16  1188.65  1203.00  1182.00  1191.10  1191.00              313011.0   \n",
       "2009-10-17  1240.00  1240.00  1180.00  1189.10  1189.80               35143.0   \n",
       "2009-10-20  1196.00  1203.50  1172.00  1174.00  1177.85              156941.0   \n",
       "2009-10-21  1184.00  1194.00  1157.00  1166.00  1166.10              309098.0   \n",
       "2009-10-22  1165.00  1184.40  1158.00  1168.00  1164.95              338413.0   \n",
       "2009-10-23  1174.90  1179.45  1161.20  1165.00  1164.70              216929.0   \n",
       "2009-10-26  1151.30  1175.00  1145.00  1158.00  1156.40              209553.0   \n",
       "2009-10-27  1150.05  1150.05  1114.20  1140.00  1140.35              407594.0   \n",
       "2009-10-28  1141.00  1141.00  1111.00  1130.20  1130.20              243141.0   \n",
       "2009-10-29  1125.25  1137.90  1115.10  1132.00  1132.25               65246.0   \n",
       "2009-10-30  1145.00  1145.00  1110.00  1111.90  1120.60              117100.0   \n",
       "2009-11-03  1102.00  1127.50  1102.00  1120.95  1120.00              179969.0   \n",
       "2009-11-04  1124.90  1159.00  1120.00  1150.50  1150.85              284546.0   \n",
       "2009-11-05  1127.00  1154.00  1127.00  1153.00  1148.90               49813.0   \n",
       "2009-11-06  1155.00  1168.55  1146.25  1160.00  1156.50              295089.0   \n",
       "2009-11-09  1150.05  1167.00  1150.05  1160.05  1165.05               93970.0   \n",
       "2009-11-10  1157.00  1169.90  1142.00  1149.00  1147.75              286131.0   \n",
       "2009-11-11  1147.00  1191.00  1145.40  1173.05  1181.35              325326.0   \n",
       "2009-11-12  1190.00  1193.00  1170.00  1185.00  1182.60              143567.0   \n",
       "2009-11-13  1175.00  1223.70  1168.00  1189.00  1194.45              440047.0   \n",
       "...             ...      ...      ...      ...      ...                   ...   \n",
       "2016-03-11   312.00   312.90   309.80   311.00   310.90              281592.0   \n",
       "2016-03-14   311.90   314.40   309.00   309.95   309.95              195841.0   \n",
       "2016-03-15   309.35   310.85   307.00   308.15   308.15              231140.0   \n",
       "2016-03-16   308.45   310.00   301.05   303.30   303.35              732565.0   \n",
       "2016-03-17   307.00   309.50   305.25   306.00   306.25              693901.0   \n",
       "2016-03-18   307.90   314.60   307.70   312.10   313.35              571120.0   \n",
       "2016-03-21   313.50   320.00   312.15   317.15   317.65              536998.0   \n",
       "2016-03-22   317.05   321.90   315.50   316.85   317.40              548477.0   \n",
       "2016-03-23   317.05   318.80   314.30   316.60   317.10              243026.0   \n",
       "2016-03-28   317.90   318.00   312.40   314.50   315.05              262427.0   \n",
       "2016-03-29   314.90   315.05   308.45   313.25   312.55              148655.0   \n",
       "2016-03-30   312.65   316.50   310.60   315.65   315.10              323100.0   \n",
       "2016-03-31   315.10   315.10   311.00   313.10   313.00              302850.0   \n",
       "2016-04-01   314.40   317.30   312.55   316.70   316.30              140332.0   \n",
       "2016-04-04   320.95   320.95   314.00   314.60   314.75              279546.0   \n",
       "2016-04-05   312.50   315.90   312.00   312.55   313.70              813937.0   \n",
       "2016-04-06   313.50   323.55   311.00   323.00   318.70              591854.0   \n",
       "2016-04-07   321.00   323.50   316.10   318.00   318.05              237769.0   \n",
       "2016-04-08   317.00   318.90   316.20   316.55   317.15               45098.0   \n",
       "2016-04-11   319.00   321.10   316.00   317.40   317.50              137632.0   \n",
       "2016-04-12   318.75   320.45   316.10   316.40   318.05              386388.0   \n",
       "2016-04-13   321.00   322.85   318.90   319.60   319.65             1076761.0   \n",
       "2016-04-18   317.70   317.70   312.20   313.50   313.45              409822.0   \n",
       "2016-04-20   315.00   315.80   313.00   313.65   313.90              291096.0   \n",
       "2016-04-21   317.95   319.00   315.55   317.20   317.05              268211.0   \n",
       "2016-04-22   317.70   318.65   316.00   316.75   317.00              437963.0   \n",
       "2016-04-25   319.10   319.20   314.00   316.20   316.00              411215.0   \n",
       "2016-04-26   316.00   320.00   315.05   319.05   318.90              170762.0   \n",
       "2016-04-27   318.90   332.25   318.10   327.75   327.90              863183.0   \n",
       "2016-04-28   328.55   333.45   328.55   330.00   330.80              720980.0   \n",
       "\n",
       "            Turnover (Lacs)  \n",
       "Date                         \n",
       "2009-09-30        223877.07  \n",
       "2009-10-01         35463.78  \n",
       "2009-10-05         10581.13  \n",
       "2009-10-06          7185.90  \n",
       "2009-10-07          8032.98  \n",
       "2009-10-08          9138.99  \n",
       "2009-10-09         12449.44  \n",
       "2009-10-12          5551.35  \n",
       "2009-10-14          7015.84  \n",
       "2009-10-15          3593.52  \n",
       "2009-10-16          3735.12  \n",
       "2009-10-17           418.95  \n",
       "2009-10-20          1861.75  \n",
       "2009-10-21          3657.14  \n",
       "2009-10-22          3973.97  \n",
       "2009-10-23          2538.68  \n",
       "2009-10-26          2423.58  \n",
       "2009-10-27          4635.23  \n",
       "2009-10-28          2745.53  \n",
       "2009-10-29           736.80  \n",
       "2009-10-30          1325.22  \n",
       "2009-11-03          2013.91  \n",
       "2009-11-04          3248.87  \n",
       "2009-11-05           568.75  \n",
       "2009-11-06          3421.96  \n",
       "2009-11-09          1090.62  \n",
       "2009-11-10          3301.75  \n",
       "2009-11-11          3788.43  \n",
       "2009-11-12          1698.72  \n",
       "2009-11-13          5277.68  \n",
       "...                     ...  \n",
       "2016-03-11           875.97  \n",
       "2016-03-14           608.64  \n",
       "2016-03-15           712.75  \n",
       "2016-03-16          2230.43  \n",
       "2016-03-17          2132.49  \n",
       "2016-03-18          1779.58  \n",
       "2016-03-21          1703.05  \n",
       "2016-03-22          1744.36  \n",
       "2016-03-23           770.94  \n",
       "2016-03-28           826.58  \n",
       "2016-03-29           463.63  \n",
       "2016-03-30          1017.62  \n",
       "2016-03-31           947.76  \n",
       "2016-04-01           441.93  \n",
       "2016-04-04           880.48  \n",
       "2016-04-05          2562.92  \n",
       "2016-04-06          1877.86  \n",
       "2016-04-07           759.12  \n",
       "2016-04-08           143.18  \n",
       "2016-04-11           437.29  \n",
       "2016-04-12          1228.72  \n",
       "2016-04-13          3445.92  \n",
       "2016-04-18          1286.13  \n",
       "2016-04-20           914.73  \n",
       "2016-04-21           851.86  \n",
       "2016-04-22          1388.79  \n",
       "2016-04-25          1302.00  \n",
       "2016-04-26           542.84  \n",
       "2016-04-27          2830.97  \n",
       "2016-04-28          2387.07  \n",
       "\n",
       "[1632 rows x 7 columns]"
      ]
     },
     "execution_count": 32,
     "metadata": {},
     "output_type": "execute_result"
    }
   ],
   "source": [
    "M"
   ]
  },
  {
   "cell_type": "markdown",
   "metadata": {},
   "source": [
    "Matplotlib: is a plotting library for the Python\n",
    "\n",
    "[How to install Matplotlib](http://matplotlib.org/users/installing.html)"
   ]
  },
  {
   "cell_type": "code",
   "execution_count": 33,
   "metadata": {
    "collapsed": false
   },
   "outputs": [],
   "source": [
    "import matplotlib.pyplot as plt\n",
    "# the following is so that you don't get pop ups, but rather the graphs happen in line:\n",
    "%matplotlib inline"
   ]
  },
  {
   "cell_type": "markdown",
   "metadata": {},
   "source": [
    "## Global data: "
   ]
  },
  {
   "cell_type": "markdown",
   "metadata": {},
   "source": [
    "Each database comes with it's own documentation, but Quanld does a good job of standardizing it. "
   ]
  },
  {
   "cell_type": "markdown",
   "metadata": {},
   "source": [
    "### Example 1: United nations data (https://www.quandl.com/data/UNDATA)"
   ]
  },
  {
   "cell_type": "markdown",
   "metadata": {},
   "source": [
    "Format: {DATABASE}/{SUBJECT}_{INDICATOR}_{COUNTRY}    ([source](https://www.quandl.com/data/UNDATA/documentation/documentation))"
   ]
  },
  {
   "cell_type": "code",
   "execution_count": 34,
   "metadata": {
    "collapsed": false
   },
   "outputs": [],
   "source": [
    "reference = 'UNDATA/INDCOM_SPOR_PRT'\n",
    "UN_data = quandl.get(reference, returns = 'pandas', authtoken=API_key)"
   ]
  },
  {
   "cell_type": "markdown",
   "metadata": {},
   "source": [
    "Pulling data on portuguese sports equipment production:\n",
    "\n",
    "* UNDATA is the database code\n",
    "* INDCOM is the subject code for \"Industrial Commodity Statistics\".\n",
    "* SPOR is the code for the indicator \"Sports Equipment Production\".\n",
    "* PRT is the code for country \"Portugal\".\n",
    "\n",
    "Let's try plotting what we just called: "
   ]
  },
  {
   "cell_type": "code",
   "execution_count": 35,
   "metadata": {
    "collapsed": false
   },
   "outputs": [
    {
     "data": {
      "image/png": "[encoded data removed]",
      "text/plain": [
       "<matplotlib.figure.Figure at 0x1145d2f50>"
      ]
     },
     "metadata": {},
     "output_type": "display_data"
    }
   ],
   "source": [
    "UN_data.plot(figsize = (12,12))\n",
    "plt.show()"
   ]
  },
  {
   "cell_type": "markdown",
   "metadata": {},
   "source": [
    "## World health organization data ([source](https://www.quandl.com/data/WHO/documentation/documentation)): "
   ]
  },
  {
   "cell_type": "markdown",
   "metadata": {},
   "source": [
    "Format: \n",
    "WHO/{country code}_{indicator}"
   ]
  },
  {
   "cell_type": "markdown",
   "metadata": {},
   "source": [
    "* Rwanda: 16700\n",
    "* Incidence of tuberculosis (per 100 000 population per year): 18"
   ]
  },
  {
   "cell_type": "code",
   "execution_count": 37,
   "metadata": {
    "collapsed": false
   },
   "outputs": [],
   "source": [
    "reference = 'WHO/16700_18'\n",
    "\n",
    "Turbec_Rwanda = quandl.get(reference, returns = 'pandas', authtoken=API_key)"
   ]
  },
  {
   "cell_type": "markdown",
   "metadata": {},
   "source": [
    "Again, let's plot what we just called:"
   ]
  },
  {
   "cell_type": "code",
   "execution_count": 40,
   "metadata": {
    "collapsed": false
   },
   "outputs": [
    {
     "data": {
      "text/plain": [
       "<matplotlib.axes._subplots.AxesSubplot at 0x114ebfa90>"
      ]
     },
     "execution_count": 40,
     "metadata": {},
     "output_type": "execute_result"
    },
    {
     "data": {
      "image/png": "[encoded data removed]",
      "text/plain": [
       "<matplotlib.figure.Figure at 0x114ebfcd0>"
      ]
     },
     "metadata": {},
     "output_type": "display_data"
    }
   ],
   "source": [
    "Turbec_Rwanda.plot()"
   ]
  },
  {
   "cell_type": "markdown",
   "metadata": {},
   "source": [
    "## European Central Bank"
   ]
  },
  {
   "cell_type": "markdown",
   "metadata": {},
   "source": [
    "Greece Bank of Greece Executed trades Debt securities Quantity"
   ]
  },
  {
   "cell_type": "code",
   "execution_count": 42,
   "metadata": {
    "collapsed": false
   },
   "outputs": [],
   "source": [
    "reference = 'ECB/SEE_A_GR_BGR0_EXT_M_Q'\n",
    "greece = quandl.get(reference, returns = 'pandas', authtoken=API_key)"
   ]
  },
  {
   "cell_type": "code",
   "execution_count": 44,
   "metadata": {
    "collapsed": false
   },
   "outputs": [
    {
     "data": {
      "text/plain": [
       "[]"
      ]
     },
     "execution_count": 44,
     "metadata": {},
     "output_type": "execute_result"
    },
    {
     "data": {
      "image/png": "[encoded data removed]",
      "text/plain": [
       "<matplotlib.figure.Figure at 0x11470fb90>"
      ]
     },
     "metadata": {},
     "output_type": "display_data"
    }
   ],
   "source": [
    "greece.plot()\n",
    "plt.plot()"
   ]
  },
  {
   "cell_type": "markdown",
   "metadata": {},
   "source": [
    "## Energy statistics (US): "
   ]
  },
  {
   "cell_type": "code",
   "execution_count": 45,
   "metadata": {
    "collapsed": false
   },
   "outputs": [
    {
     "ename": "NameError",
     "evalue": "name 'Quandl' is not defined",
     "output_type": "error",
     "traceback": [
      "\u001b[0;31m---------------------------------------------------------------------------\u001b[0m",
      "\u001b[0;31mNameError\u001b[0m                                 Traceback (most recent call last)",
      "\u001b[0;32m<ipython-input-45-17d5d7150376>\u001b[0m in \u001b[0;36m<module>\u001b[0;34m()\u001b[0m\n\u001b[1;32m      1\u001b[0m \u001b[0mreference\u001b[0m \u001b[0;34m=\u001b[0m \u001b[0;34m'DOE/COAL'\u001b[0m\u001b[0;34m\u001b[0m\u001b[0m\n\u001b[0;32m----> 2\u001b[0;31m \u001b[0mcoal_prices_by_region\u001b[0m \u001b[0;34m=\u001b[0m \u001b[0mQuandl\u001b[0m\u001b[0;34m.\u001b[0m\u001b[0mget\u001b[0m\u001b[0;34m(\u001b[0m\u001b[0mreference\u001b[0m\u001b[0;34m,\u001b[0m \u001b[0mreturns\u001b[0m \u001b[0;34m=\u001b[0m \u001b[0;34m'pandas'\u001b[0m\u001b[0;34m,\u001b[0m \u001b[0mauthtoken\u001b[0m\u001b[0;34m=\u001b[0m\u001b[0mAPI_key\u001b[0m\u001b[0;34m)\u001b[0m\u001b[0;34m\u001b[0m\u001b[0m\n\u001b[0m",
      "\u001b[0;31mNameError\u001b[0m: name 'Quandl' is not defined"
     ]
    }
   ],
   "source": [
    "reference = 'DOE/COAL'\n",
    "coal_prices_by_region = Quandl.get(reference, returns = 'pandas', authtoken=API_key)"
   ]
  },
  {
   "cell_type": "code",
   "execution_count": 46,
   "metadata": {
    "collapsed": false
   },
   "outputs": [
    {
     "ename": "NameError",
     "evalue": "name 'coal_prices_by_region' is not defined",
     "output_type": "error",
     "traceback": [
      "\u001b[0;31m---------------------------------------------------------------------------\u001b[0m",
      "\u001b[0;31mNameError\u001b[0m                                 Traceback (most recent call last)",
      "\u001b[0;32m<ipython-input-46-241c35707db3>\u001b[0m in \u001b[0;36m<module>\u001b[0;34m()\u001b[0m\n\u001b[0;32m----> 1\u001b[0;31m \u001b[0mcoal_prices_by_region\u001b[0m\u001b[0;34m.\u001b[0m\u001b[0mplot\u001b[0m\u001b[0;34m(\u001b[0m\u001b[0mfigsize\u001b[0m \u001b[0;34m=\u001b[0m \u001b[0;34m(\u001b[0m\u001b[0;36m12\u001b[0m\u001b[0;34m,\u001b[0m\u001b[0;36m8\u001b[0m\u001b[0;34m)\u001b[0m\u001b[0;34m)\u001b[0m\u001b[0;34m\u001b[0m\u001b[0m\n\u001b[0m\u001b[1;32m      2\u001b[0m \u001b[0mplt\u001b[0m\u001b[0;34m.\u001b[0m\u001b[0mplot\u001b[0m\u001b[0;34m(\u001b[0m\u001b[0;34m)\u001b[0m\u001b[0;34m\u001b[0m\u001b[0m\n",
      "\u001b[0;31mNameError\u001b[0m: name 'coal_prices_by_region' is not defined"
     ]
    }
   ],
   "source": [
    "coal_prices_by_region.plot(figsize = (12,8))\n",
    "plt.plot()"
   ]
  },
  {
   "cell_type": "markdown",
   "metadata": {},
   "source": [
    "[Source](https://www.quandl.com/data/DOE)"
   ]
  },
  {
   "cell_type": "markdown",
   "metadata": {},
   "source": [
    "## US government data: "
   ]
  },
  {
   "cell_type": "code",
   "execution_count": 49,
   "metadata": {
    "collapsed": false
   },
   "outputs": [],
   "source": [
    "reference = 'USDATA/PETROLEUM_IMPORTS_SAUDIARABIA'\n",
    "US_oil_imports_saudi = quandl.get(reference, returns = 'pandas', authtoken=API_key)"
   ]
  },
  {
   "cell_type": "code",
   "execution_count": 50,
   "metadata": {
    "collapsed": false
   },
   "outputs": [
    {
     "data": {
      "text/plain": [
       "[]"
      ]
     },
     "execution_count": 50,
     "metadata": {},
     "output_type": "execute_result"
    },
    {
     "data": {
      "image/png": "[encoded data removed]",
      "text/plain": [
       "<matplotlib.figure.Figure at 0x114787690>"
      ]
     },
     "metadata": {},
     "output_type": "display_data"
    }
   ],
   "source": [
    "US_oil_imports_saudi.plot()\n",
    "plt.plot()"
   ]
  },
  {
   "cell_type": "markdown",
   "metadata": {},
   "source": [
    "## Sources of data that don't seem (when I wrote this) to be on Quandl: "
   ]
  },
  {
   "cell_type": "markdown",
   "metadata": {
    "collapsed": true
   },
   "source": [
    "* http://dados.gov.pt/ - Portuguese government data\n",
    "* http://www.base.gov.pt - Online public contracts "
   ]
  },
  {
   "cell_type": "code",
   "execution_count": null,
   "metadata": {
    "collapsed": true
   },
   "outputs": [],
   "source": []
  }
 ],
 "metadata": {
  "kernelspec": {
   "display_name": "Python 2",
   "language": "python",
   "name": "python2"
  },
  "language_info": {
   "codemirror_mode": {
    "name": "ipython",
    "version": 2
   },
   "file_extension": ".py",
   "mimetype": "text/x-python",
   "name": "python",
   "nbconvert_exporter": "python",
   "pygments_lexer": "ipython2",
   "version": "2.7.11"
  }
 },
 "nbformat": 4,
 "nbformat_minor": 0
}
